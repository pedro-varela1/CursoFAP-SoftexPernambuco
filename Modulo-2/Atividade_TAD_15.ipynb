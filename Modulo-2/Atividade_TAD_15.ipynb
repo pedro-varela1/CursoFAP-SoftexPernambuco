{
  "nbformat": 4,
  "nbformat_minor": 0,
  "metadata": {
    "colab": {
      "provenance": [],
      "authorship_tag": "ABX9TyMeUgaVb8BF96TPdZw6yHBE",
      "include_colab_link": true
    },
    "kernelspec": {
      "name": "python3",
      "display_name": "Python 3"
    },
    "language_info": {
      "name": "python"
    }
  },
  "cells": [
    {
      "cell_type": "markdown",
      "metadata": {
        "id": "view-in-github",
        "colab_type": "text"
      },
      "source": [
        "<a href=\"https://colab.research.google.com/github/pedro-varela1/CursoFAP-SoftexPernambuco/blob/main/Modulo-2/Atividade_TAD_15.ipynb\" target=\"_parent\"><img src=\"https://colab.research.google.com/assets/colab-badge.svg\" alt=\"Open In Colab\"/></a>"
      ]
    },
    {
      "cell_type": "markdown",
      "source": [
        "# Atividade Tipo Abstrato de Dado - FAP\n",
        "\n",
        "## Instrução\n",
        "Crie um tipo abstrato de dado (TAD) para manipular números complexos na linguagem Python. O método deve:\n",
        "- calcular três números complexos;\n",
        "- realizar todas as operações básicas;\n",
        "- e imprimir as propriedades real e img do números.\n",
        "\n",
        "---"
      ],
      "metadata": {
        "id": "Pi2aGylieQHc"
      }
    },
    {
      "cell_type": "markdown",
      "source": [
        "## Algoritmo e Código\n",
        "\n",
        "O algoritmo foi feito em Pyhton e está exposto abaixo, passo a passo."
      ],
      "metadata": {
        "id": "6R8uP1fQfRpF"
      }
    },
    {
      "cell_type": "markdown",
      "source": [
        "Primeiramente, vamos criar uma classe _ComplexNumber_, que possui os atributos solicitados:"
      ],
      "metadata": {
        "id": "6LubGStznZnT"
      }
    },
    {
      "cell_type": "code",
      "source": [
        "import numpy as np\n",
        "# Utilizei a biblioteca numpy para realizar as operações com\n",
        "# complexos, inicializar o valor e mostrar o valor ao usuário\n",
        "# no retorno da classe.\n",
        "\n",
        "class ComplexNumber:\n",
        "    def __init__(self, real, imag):\n",
        "        self.value = np.complex(real, imag)\n",
        "\n",
        "    def __str__(self):\n",
        "        return str(self.value)\n",
        "\n",
        "    def add(self, other):\n",
        "        result = self.value + other.value\n",
        "        return ComplexNumber(result.real, result.imag)\n",
        "\n",
        "    def subtract(self, other):\n",
        "        result = self.value - other.value\n",
        "        return ComplexNumber(result.real, result.imag)\n",
        "\n",
        "    def multiply(self, other):\n",
        "        result = self.value * other.value\n",
        "        return ComplexNumber(result.real, result.imag)\n",
        "\n",
        "    def divide(self, other):\n",
        "        result = self.value / other.value\n",
        "        return ComplexNumber(result.real, result.imag)"
      ],
      "metadata": {
        "id": "B7oCw1vB7FOG"
      },
      "execution_count": 1,
      "outputs": []
    },
    {
      "cell_type": "markdown",
      "source": [
        "Agora, vamos testar a classe. Primeiro, vamos imprimir alguns números complexos inicializados:"
      ],
      "metadata": {
        "id": "8ozNJV7jo5fI"
      }
    },
    {
      "cell_type": "code",
      "source": [
        "# Criar números complexos\n",
        "num1 = ComplexNumber(3, 4)\n",
        "num2 = ComplexNumber(1, 2)\n",
        "num3 = ComplexNumber(0, 1)   # Puramente imaginário\n",
        "num4 = ComplexNumber(1, 0)   # Puramente real\n",
        "\n",
        "# Imprimir os números complexos\n",
        "print(\"Número 1:\", num1)\n",
        "print(\"Número 2:\", num2)\n",
        "print(\"Número 3:\", num3)\n",
        "print(\"Número 4:\", num4)"
      ],
      "metadata": {
        "id": "KwGLxQvhqEl9",
        "colab": {
          "base_uri": "https://localhost:8080/"
        },
        "outputId": "20cc75c6-c068-4401-9f68-ae09bf4a842f"
      },
      "execution_count": 2,
      "outputs": [
        {
          "output_type": "stream",
          "name": "stdout",
          "text": [
            "Número 1: (3+4j)\n",
            "Número 2: (1+2j)\n",
            "Número 3: 1j\n",
            "Número 4: (1+0j)\n"
          ]
        },
        {
          "output_type": "stream",
          "name": "stderr",
          "text": [
            "<ipython-input-1-90035f39b9c8>:8: DeprecationWarning: `np.complex` is a deprecated alias for the builtin `complex`. To silence this warning, use `complex` by itself. Doing this will not modify any behavior and is safe. If you specifically wanted the numpy scalar type, use `np.complex128` here.\n",
            "Deprecated in NumPy 1.20; for more details and guidance: https://numpy.org/devdocs/release/1.20.0-notes.html#deprecations\n",
            "  self.value = np.complex(real, imag)\n"
          ]
        }
      ]
    },
    {
      "cell_type": "markdown",
      "source": [
        "Deu certo, a classe gerou números complexos e exibiu corretamente ao usuário (o aviso é em decorrência da função ```numpy.complex()``` estar desatualizada, mas optei pelo uso dela para ser expositivo ao leitor.\n"
      ],
      "metadata": {
        "id": "iNjOixTAuKmk"
      }
    },
    {
      "cell_type": "markdown",
      "source": [
        "Agora, vamos testar as operações básicas:"
      ],
      "metadata": {
        "id": "ScbGnrv2lgxw"
      }
    },
    {
      "cell_type": "code",
      "source": [
        "# Realizar operações básicas entre\n",
        "# num1 (3+j4) num2 (1+j2).\n",
        "\n",
        "result_sum = num1.add(num2)\n",
        "result_diff = num1.subtract(num2)\n",
        "result_product = num1.multiply(num2)\n",
        "result_divide = num1.divide(num2)\n",
        "\n",
        "# Imprimir os resultados\n",
        "print(\"Soma:\", result_sum)\n",
        "print(\"Subtração:\", result_diff)\n",
        "print(\"Produto:\", result_product)\n",
        "print(\"Divisão:\", result_divide)"
      ],
      "metadata": {
        "colab": {
          "base_uri": "https://localhost:8080/"
        },
        "id": "Y1cGpWfomWcx",
        "outputId": "4e2dfe06-675e-421c-84e8-847faeb9cd0c"
      },
      "execution_count": 3,
      "outputs": [
        {
          "output_type": "stream",
          "name": "stdout",
          "text": [
            "Soma: (4+6j)\n",
            "Subtração: (2+2j)\n",
            "Produto: (-5+10j)\n",
            "Divisão: (2.2-0.4j)\n"
          ]
        },
        {
          "output_type": "stream",
          "name": "stderr",
          "text": [
            "<ipython-input-1-90035f39b9c8>:8: DeprecationWarning: `np.complex` is a deprecated alias for the builtin `complex`. To silence this warning, use `complex` by itself. Doing this will not modify any behavior and is safe. If you specifically wanted the numpy scalar type, use `np.complex128` here.\n",
            "Deprecated in NumPy 1.20; for more details and guidance: https://numpy.org/devdocs/release/1.20.0-notes.html#deprecations\n",
            "  self.value = np.complex(real, imag)\n"
          ]
        }
      ]
    },
    {
      "cell_type": "markdown",
      "source": [
        "Vemos que todos os resultados estão corretos e o Tipo Abstrato de Dado realizou seu papel com êxito."
      ],
      "metadata": {
        "id": "YTh15wa5nFMl"
      }
    }
  ]
}