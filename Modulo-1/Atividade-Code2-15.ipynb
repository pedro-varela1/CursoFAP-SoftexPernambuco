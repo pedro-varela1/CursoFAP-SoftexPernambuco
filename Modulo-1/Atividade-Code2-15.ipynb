{
  "nbformat": 4,
  "nbformat_minor": 0,
  "metadata": {
    "colab": {
      "provenance": []
    },
    "kernelspec": {
      "name": "python3",
      "display_name": "Python 3"
    },
    "language_info": {
      "name": "python"
    }
  },
  "cells": [
    {
      "cell_type": "markdown",
      "source": [
        "# Atividade com Código 2 - FAP\n",
        "\n",
        "## Instrução\n",
        "Desenvolva um programa que recebe do usuário nome completo e ano de nascimento que seja entre 1922 e 2021. A partir dessas informações, o sistema mostrará o nome do usuário e a idade que completou, ou completará, no ano atual (2022).\n",
        "\n",
        "Caso o usuário não digite um número ou apareça um inválido no campo do ano, o sistema informará o erro e continuará perguntando até que um valor correto seja preenchido."
      ],
      "metadata": {
        "id": "Pi2aGylieQHc"
      }
    },
    {
      "cell_type": "markdown",
      "source": [
        "## Resolução\n",
        "\n",
        "A resolução foi feita em Pyhton 3 e depois implementada em JavaScript:"
      ],
      "metadata": {
        "id": "6R8uP1fQfRpF"
      }
    },
    {
      "cell_type": "code",
      "execution_count": 1,
      "metadata": {
        "id": "IWDViHDpd_jk",
        "colab": {
          "base_uri": "https://localhost:8080/"
        },
        "outputId": "ff351af9-90af-4b42-afb3-d2f98abf4e07"
      },
      "outputs": [
        {
          "output_type": "stream",
          "name": "stdout",
          "text": [
            "Digite seu nome completo: Pedro Artur Varela\n",
            "\n",
            "Digite o seu ano de nascimento (1922-2021): 1921\n",
            "O ano informado está fora da faixa, digite novamente.\n",
            "\n",
            "Digite o seu ano de nascimento (1922-2021): 2022\n",
            "O ano informado está fora da faixa, digite novamente.\n",
            "\n",
            "Digite o seu ano de nascimento (1922-2021): 2002.2\n",
            "O ano informado é inválido, digite novamente.\n",
            "\n",
            "Digite o seu ano de nascimento (1922-2021): 2002\n",
            "\n",
            "Seu nome completo é:  Pedro Artur Varela\n",
            "\n",
            "Você completou 20 anos em 2022.\n"
          ]
        }
      ],
      "source": [
        "nome = input('Digite seu nome completo: ')\n",
        "\n",
        "while True: # Checagem se o ano é inválido\n",
        "  ano = input('\\nDigite o seu ano de nascimento (1922-2021): ')\n",
        "  try:\n",
        "    ano = int(ano)\n",
        "    if ((ano >= 1922) and (ano <= 2021)):\n",
        "      break\n",
        "    else:\n",
        "      print('O ano informado está fora da faixa, digite novamente.')\n",
        "      continue\n",
        "  except:\n",
        "    print('O ano informado é inválido, digite novamente.')\n",
        "    continue\n",
        "\n",
        "idade = 2022 - ano # Idade em 2022\n",
        "\n",
        "print('\\nSeu nome completo é: ', nome)\n",
        "print(f'\\nVocê completou {idade} anos em 2022.')"
      ]
    },
    {
      "cell_type": "markdown",
      "source": [
        "É visível que o código só saiu do loop quando um ano válido for colocado. Além disso, os erros de leitura foram corretamente sinalizados."
      ],
      "metadata": {
        "id": "qcTDBGUBKzrV"
      }
    },
    {
      "cell_type": "markdown",
      "source": [
        "### Código Completo (JAVASCRIPT):\n",
        "\n",
        "A única alteração feita, para o js, for substituir os _try_ e _except_ por _if_ e _else_, com o comando _!Number.isNaN(Number(ano))_ retornando verdadeiro se ano for um número válido. Além disso, o número foi tratado como um _parseFloat_ para que se o usuário digitar um float (Ex.: 2002.2) o código retornar que o valor é inválido, em decorrência de _Number.isInteger(ano) = false_ - não utilizei _parseInt_ porque ela converte os valores decimais em inteiros; se o usuário digitar um inteiro, mesmo com o _parseFloat_ esse valor vai ser entendido como um inteiro e, assim, _Number.isInteger(ano) = true_. \n",
        "\n",
        "```js\n",
        "let ano;\n",
        "let nome = prompt('Digite seu nome completo: ');\n",
        "\n",
        "while (true) { // Checagem se o ano é inválido\n",
        "  ano = prompt('\\nDigite o seu ano de nascimento (1922-2021): ');\n",
        "  if(!Number.isNaN(Number(ano))){\n",
        "    ano = parseFloat(ano);\n",
        "    if (ano >= 1922 && ano <= 2021 && Number.isInteger(ano)) {\n",
        "      break;\n",
        "    } else {\n",
        "      console.log('O ano informado é inválido, digite novamente.');\n",
        "      continue;\n",
        "    }\n",
        "  } else {\n",
        "    console.log('O ano informado é inválido, digite novamente.');\n",
        "    continue;\n",
        "  }\n",
        "}\n",
        "\n",
        "let idade = 2022 - ano; // Idade em 2022\n",
        "\n",
        "console.log('\\nSeu nome completo é: ', nome);\n",
        "console.log(`\\nVocê completou ${idade} anos em 2022.`);\n",
        "```"
      ],
      "metadata": {
        "id": "IQCJPvwB2c_A"
      }
    }
  ]
}
