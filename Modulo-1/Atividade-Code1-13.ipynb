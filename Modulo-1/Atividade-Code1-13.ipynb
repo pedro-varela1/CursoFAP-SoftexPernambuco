{
  "nbformat": 4,
  "nbformat_minor": 0,
  "metadata": {
    "colab": {
      "provenance": []
    },
    "kernelspec": {
      "name": "python3",
      "display_name": "Python 3"
    },
    "language_info": {
      "name": "python"
    }
  },
  "cells": [
    {
      "cell_type": "markdown",
      "source": [
        "# Atividade com Código 1 - FAP\n",
        "\n",
        "## Instrução\n",
        "Faça uma função calculadora de dois números com três parâmetros: os dois primeiros serão os números da operação e o terceiro será a entrada que definirá a operação a ser executada. Considera a seguinte definição:\n",
        "1. Soma\n",
        "2. Subtração\n",
        "3. Multiplicação\n",
        "4. Divisão\n",
        "\n",
        "Caso seja inserido um número de operação que não exista, o resultado deverá ser 0."
      ],
      "metadata": {
        "id": "Pi2aGylieQHc"
      }
    },
    {
      "cell_type": "markdown",
      "source": [
        "## Resolução\n",
        "\n",
        "A resolução foi feita em Pyhton 3 e depois implementada em JavaScript.\n",
        "\n",
        "Como foi solicitado, vamos fazer a função calculadora:"
      ],
      "metadata": {
        "id": "6R8uP1fQfRpF"
      }
    },
    {
      "cell_type": "code",
      "execution_count": 1,
      "metadata": {
        "id": "IWDViHDpd_jk"
      },
      "outputs": [],
      "source": [
        "def calculadora(num1, num2, operation):\n",
        "  if operation == 1:\n",
        "    #Soma\n",
        "    return(num1 + num2)\n",
        "  elif operation == 2:\n",
        "    #Subtração\n",
        "    return(num1 - num2)\n",
        "  elif operation == 3:\n",
        "    #Multiplicação\n",
        "    return(num1*num2)\n",
        "  elif operation == 4:\n",
        "    #Divisão\n",
        "    return(num1/num2)\n",
        "  else:\n",
        "    #Número de operação não existe\n",
        "    return 0"
      ]
    },
    {
      "cell_type": "markdown",
      "source": [
        "Vamos testar o funcionamento da função:"
      ],
      "metadata": {
        "id": "rlnkG7jsiAF8"
      }
    },
    {
      "cell_type": "code",
      "source": [
        "calculadora(3, 5, 1) # 3 + 5 = 8"
      ],
      "metadata": {
        "colab": {
          "base_uri": "https://localhost:8080/"
        },
        "id": "aogv28Drh-J7",
        "outputId": "6ceda68f-4bb9-41d4-b0d3-fb85490967cd"
      },
      "execution_count": 2,
      "outputs": [
        {
          "output_type": "execute_result",
          "data": {
            "text/plain": [
              "8"
            ]
          },
          "metadata": {},
          "execution_count": 2
        }
      ]
    },
    {
      "cell_type": "code",
      "source": [
        "calculadora(3, 5, 2) # 3 - 5 = -2"
      ],
      "metadata": {
        "colab": {
          "base_uri": "https://localhost:8080/"
        },
        "id": "WLQPmWCJil69",
        "outputId": "6a576f65-3020-4ec2-92d8-0604d2122e9f"
      },
      "execution_count": 3,
      "outputs": [
        {
          "output_type": "execute_result",
          "data": {
            "text/plain": [
              "-2"
            ]
          },
          "metadata": {},
          "execution_count": 3
        }
      ]
    },
    {
      "cell_type": "code",
      "source": [
        "calculadora(3, 5, 3) # 3 x 5 = 15"
      ],
      "metadata": {
        "colab": {
          "base_uri": "https://localhost:8080/"
        },
        "id": "G07l1mi-iqrN",
        "outputId": "2a3aca8b-54c0-4627-84c4-88be89d7d8fc"
      },
      "execution_count": 4,
      "outputs": [
        {
          "output_type": "execute_result",
          "data": {
            "text/plain": [
              "15"
            ]
          },
          "metadata": {},
          "execution_count": 4
        }
      ]
    },
    {
      "cell_type": "code",
      "source": [
        "calculadora(3, 5, 4) # 3/5 = 0.6"
      ],
      "metadata": {
        "colab": {
          "base_uri": "https://localhost:8080/"
        },
        "id": "FOfgv5iajA_K",
        "outputId": "206e222e-d7a7-43c9-a689-0ae89f55b3d9"
      },
      "execution_count": 5,
      "outputs": [
        {
          "output_type": "execute_result",
          "data": {
            "text/plain": [
              "0.6"
            ]
          },
          "metadata": {},
          "execution_count": 5
        }
      ]
    },
    {
      "cell_type": "code",
      "source": [
        "calculadora(3, 5, 5) # Operação inválida: retorna 0"
      ],
      "metadata": {
        "colab": {
          "base_uri": "https://localhost:8080/"
        },
        "id": "FsIZ6dM0jWa5",
        "outputId": "0ed9b868-bb0a-4b2c-e8cc-680f84238712"
      },
      "execution_count": 6,
      "outputs": [
        {
          "output_type": "execute_result",
          "data": {
            "text/plain": [
              "0"
            ]
          },
          "metadata": {},
          "execution_count": 6
        }
      ]
    },
    {
      "cell_type": "markdown",
      "source": [
        "Vemos que a função deu certo para os diferentes cenários.\n",
        "\n",
        "Por fim, temos, abaixo, a função em JavaScript com o código rodando no navegador:\n",
        "\n",
        "![image.png](data:image/png;base64,iVBORw0KGgoAAAANSUhEUgAAAV8AAAGQCAYAAAAJC2PgAAAAAXNSR0IArs4c6QAAAARnQU1BAACxjwv8YQUAAAAJcEhZcwAADsMAAA7DAcdvqGQAACc2SURBVHhe7d0/jxXJvf/xniUiMNFEO7uyRE7ifQAWG4BI4Uo/bUJAZIk/gy37StbKfgA3sHxBrBGWcIT2d2WcGjkB8QA2ADlxZv4mQ4BuYCLD3e+hv8t3iqrqquo/1af7/ZJa013VVV2n55wPRZ+ec3befa8BAEzqk/YnAGBChC8AVED4AkAF2eF7+/bt5tWrV+3Wdrp77L83C+bts88+a9eAptnb+5/NMpTaz6/s8D127Fhz7dq17ADWwJsi+LY9WPVJNuQTbag+hxxTjLwwnj9/3m6Na4jzMgUd5zaMtcTUj0ueX30CWNr2CnC52yHH27dv3/3pT39699vf/vbdwcFBWxr35x/9vl2bxtTHG8unn/7/dm04ffscY0w+e3t77dq49PFM9bhKueOb+3hL1HhMpc+zIZ6fRbeafR/Am8sPz549ay5fvtzs7u62NX4yE/2P/91vtz5wy+22O3t12/vq3TLh9q/c/kSovmssMe6/5i9e/L927XCdLVdSHyq3dB93f1/7lD59bSz3GMp37Fi9co8XmvV2jSO07bYT7jHd9n2MOU411HjtMd1xWe6xYu1kO6VfLXePJbraWCnHEr62ouR/WSVtPrKJ4AL//ve/3928efPdb37zm3f/+te/2tLDZAbqW5RdF25daF+3zhWrE756t8xuy7q7nUL+JU/919y3X6gs1Kdbntqny+4T67OrLrav5daFZhWxPt0+fHXuT8tXVkr6sv2F1oWvzv3pE6tL5fZht2Xd3Val7Vyxfnx89bE+ZN3d9imZxQ4x8+11t8Mnn3yymQWHyAxRZ4m6njNrjO2b088QSo8X+tdWyL/MuuSI9VmqdCwxdpzumEuPN8ZjH8OY45RzNsV5iB0j9vuz7dw+Yu3GMPR50uu8Q7wfURS+34f25rLD06dPm6tXrzZHjx5ta5BKnnzyxNClpqnHMqfHvm303NVmf3+p41nC711CVxYJ4L6yw1eC986dO82TJ0+a/f39zuu9qXzXa2Ny969FnnBdUvaxxuhTxdqV9hkz9z51pjOG3HHK/qHQGnOcPn3P8Ri/922THb5/+ctfmn/84x+DBK/8V15CNDdI9RKAtvW195XbMrfejkWWIS5r6AtFnmi6KKlzy5Qtd/cZq0+3TNk6Pbaydb76kNjxRMnMoqvPENumpH2uPuPUnyXtfbp+f6E6Xbf1KVIeu6/elrn1XY+hizzPhriEUCL7bodbt241Z8+eHWzGC/jUfFFY+o/AHMYSM/Q4S4JsG5U+z4Z4fvKpZpit2gG81uAVawjfvs+vvued8AWACnrdagYAKEP4AkAFiw1f926Goeh1nm0l49/2xxCy1MeFZVrlzNfeUpYT0PLi3pY3X5bqi533i4/8bvo8fmlLgGMqq3vDTcK29B7ebQnfuY+xlITud98/W/WnT+njX/J5wzwtLnztTNYXsqXhG3txSp2y+9hy4baPtZPtlH613D2W6GpjpRxL+NpOLRa+QsacO86SNkAfi535uiEburyQGsShF6dbbrdlXdht37pIbeeK9ePjq4/1IevCbsf6V9rOcvu0UvpUhC+WYDXXfCVkNWh1PTV4+4i9oOUFr4vLtnP7iLUbQ0koSRt3UbG6qel5rDkGrBO3mlVUEkAaFDltatBQs4uK1U1Nz2PNMWCdCN+K+r7g5xwY9h8IXVSsDliLRb/hpuzlhdI33ISEnS8obAjaejcc3bah+tBxVKzf1LGI1Hax7Sn5bjFzr/2Wjq/m48I68dkOGXJfoLygp0f4Yltw2SGDvDjlRYp56hOg+rvl94upMPMFgAqY+QJABYQvAFRA+K4Q1zUP43ygBsK3otCfPI+pz5tSueb0BpaOxTeeId5I3flPz31wLbdOtu2CdSJ8MQoJs6lCvouORZe+QeuSAH33X/73rd063bYL1om7HXrSP9qws1j3jzqUlvtmvLE/BLHbup7Sr+1DhALRDSO7j9vGbvtCzO0/dEzhq3P7DB1b2G23ncg5rgiVdykJ3xCpV247V6g+1j/mg5nvADQQ3bCz5bJoONp97Xqq0PGU1rlh3EWCRxZfkIVoWJWEVsycxhITC1NfnWxLuS9MdX9d3H20L/1pxdphngjfAdgQdANRAlCXocSO526nmjKwJFA1VO26GnMscqwpH6vPGCEpfemC7UD4jkzC0C74MKt118c2h+C1hgpg6UMDXRZsB8J3ZH1nvEPOmPtyZ6g15Y5ljODV0POJ1Y2Jme/2IHxHpDPd2KUHX7m0C+3fh4RPbmhpm5Kw0zah9rlh2Gcs+jPUXsqGDmcfCUe72ICW9VBdjG2H7cHdDiszVchsm9zzEgvHnODEehG+K0QAH8b5QA2ELwBUwDVfAKiA8AWACgjfGRvjjgch1zi3mYx/2x9DyFIfFz62uGu++uQd8g0UG4BT/qGEHtd3TDeUU8cl52fuby51jXGM3/GU7BeBul8AKvr8jrb93KzJYt9wGyNkJPCmDN+QPuMY47wMbRvGWEqC1wauuy1KH/+Sz9sSEb5G1ww3FHqxdl19+pSOo0vsnEidsvvYcuG2j7WT7ZR+tdw9luhqY6UcS/ja1uILXyFjzh1nSRtUJOG7RHt7e+1amj//6Pft2nvutkgtUyl9xvja+5ZUoXPiltttWXe3VWk7V6wfH199rA9Zd7dTaDu7qFhdjp8EXoEl/ZWOAXUs9g03mQHITMCd9cTIjFKXHLH9S/v0kdmuznh1vWQGnCs2m9Jz7DvPtp3bR6zdGEpmhNLGXVSsLlVo1ptLz2PJGFDPYsNXn4w5T0gbaKmhpvuGAtb2J8vS6DnOOdf2d5PapgYNNbuoWF2KoYJX6HnMHQPq4lYzo8/sNBSsQ8x456zvC37OgWH/gdBFxeq6DBm82F684Wa4QamBGprRClvnC+BQnzGx4wmpT+nHJ3RebAjaejcc3bah+q7zH+s3dSwitV1se0oSvC7udlgnwndlcs8L53F6hO86LO6ygzwBeRKGyXmR84N56vPc1d8tv9/tsNiZLwDMGW+4AUAFhC8AVED4rhDXBA/jfOSx3xfH98aVI3wr8t1SNrY+b+jkmtObPzoW33iGeBMyFkJunYaXLim69kvtZyj6pZ0oR/hiFBJmU4V8Fx2LLn2D1iUhlPplmrptl22jY97W8c8Fdzv0pH/wYGex7h9EKC33zXhjf0Rht3U9pV/bhwgFohtGdh+3jd32hZjbf+iYIWOORYXGFCrvUhK+PrF9Zd0KlQtfH3Y/t17ZchE6pkht59bBkPBFOfeTxULromtbxfaTdXdbxepE6FOv3E/lCq0LX5370/KVxcj+tk1oXfjq3J8+obpYm5DmV+GXUKhOyn11bpnddtvE9rW62lnufrF9rVj/qX2sEZcdBmBnmO5sU2ajugwldjx3O1XJjK8PmWXaxRpzLKWz2yHJbFAWd2bZpXQWadu5fcgYdHHFjhdrhzSE78gkDO2C9yQA7TKFOQSvVRLAQ5Jjyxh0SVXaDocRviPrO+MdcsbclztDrSl3LGMEr4aQT6wuxdSh7DteyhimHueSEL4j0plu7NKDr1zahfbvQ8InN7S0TUnYaZuS9j59xqI/Q+2lbIpZsYSVXWxAy7qW+4TaqVhbn9jxtH+tt/t0tbNtfOPEe9ztsDJThcy2yT0vsWBZUugQoOMhfFeIAD6M8+FH8I6L8AWACrjmCwAVEL4AUAHhO2Nj3PEg5BrnNpPxb/tjCFnq48LHFnfNV5+8Q76BYgNwyj+U0OP6jumGcuq45PzM/c2lrjGO8TueivsFmr5vMe7zO9rmc7M2i33DbYyQkcCbMnxD+oxjjPMytG0Y41B8XyNf+vjXdN6WgPA1uma4odCLtevq06d0HF1i50TqlN3Hlgu3faydbKf0q+XusURXGyvlWMLXthZf+AoZc+44S9qgIgnfJcr9hCr3E8DcbZFaplL6jPG19y2pUj/Ny27LurutStu5Yv34+Opjfci6u51C29lFxeq6/OT7V50uITn9qZI2qGexb7jJDEBmAu6sJ0ZmlLrkiO1f2qePzHZ1xqvrJTPgXLHZlJ5j33m27dw+Yu3GUDIjlDbuomJ1XWSmq4t7DbiEnsecMaC+xYavPhlznpA20FJDTfcNBaztT5al0XOcc67t7ya1TQ0aanZRsbqp6XmsOQbk41Yzo8/sNBSsQ8x456zvC37OgWH/gdBFxeqAFLzhZrhBqYEamtEKW+cL4FCfMbHjCalP6ccndF5sCNp6NxzdtqH6rvMf6zd1LCK1XWx7SmPealbzcSEf4bsyueeF8zg9wncdFnfZQZ6APAnD5LzI+cE89Xnu6u+W3+92WOzMFwDmjDfcAKACwhcAKiB8V4hrgoet4XzIt1LIMqQx+vSxx5nieFMhfCvy3VI2tj5v6OTqevNnytDTsfiOOcSbkLFQsHXufqlhIvvp4pPaT6qu401Nvs5oLmMZCuGLUUiYhULeDbq+wddFx6LL0MeTUBj7yzSljz795LZP2T+3z1J6jKmONxXuduhJ/+DBzmLdP4hQWu6b8cb+iMJu63pKv7YPEQpEN4zsPm4bu+0LMbf/lGO6/VuhYwu77bYTvuMKtx8VKu+SE746e5Myuy58+7r9hvqzQvW+viy3XoTGoEJtrCHGk9rON57ZkvBFOfeTxULromtbxfaTdXdbxepE6FOv3E/lCq0LX53704qV+drJurut7Lrw1bk/fUJ1sTYhza/CLyFfnZRpuV0X7v7utvCViVC5CvVly0P7hKT0GWP369POSu1jDrjsMAA7w3RnmzIb1WUoseO526lKZnyl3GN1bQ+pdHY7JJmdyWxtDrO0McYQ61Mety6u0nbbivAdmYShXfDB1CE4h+BVcwjeqUlwyuPWJVVpu7kjfEfWd8Y75Iy5L9911VpyxzJG8Goo+MTqUmzzDC9l7L59StttK8J3RDrTjV168JVLu9D+fUj45IaWtikJO21T0t6nz1j0Z6i9lNWaFWugSFjLeiiYtDxlH2XLYvWy2H8s7L52XcTqtA8td+vcMtWnnW2j/WwD7nZYmZohM2e55yX2Qt+WEJjjOLctQPtg5rsyOnvEByX/IMUCYi3hMbQ1Ba9g5gsAFTDzBYAKCF8AqIDwnbEx7ngQ237NV8a/1OvWXI9fj8WF7xgvTA3BMYKwlB1Tzrjk3Mz9boc1BJB8kab7ZZqi7xuiYzz/MQ6+QDODhNwc/kqtzzjGOC9D24Yx9qXBy7cXrxfha9gZpC/cQqEXa9fVp0/pOLrEzonUKbuPLRdu+1g72U7pV8vdY4muNlbKsYSv7ZQkeCV09aePjDl3nCVtUJGE7xLlfkKV+wlg7rZILVMpfcb42vuWVKmf5mW3Zd3dVqXtXLF+fHz1sT5k3d1Ooe3somJ1MT8xrzi77krtzyppg3oW+4abzABkJuDOemJkRqlLjtj+pX36yGxXZ7y6XjIDzhWbTek59p1n287tI9ZuDCUzQmnjLipWFxKb6fah5zFlDJiPxYavPhlznpA20FJDTfcNBaztT5al0XOcc67t7ya1TQ0aanZRsboYCWBddLsvPY+pY8A8cKuZ0Wd2GgrWIWa8c9b3BT/nwLD/QOiiYnUhMuu1i5ZhnXjDzXCDUgM1NKMVts4XwKE+Y2LHE1Kf0o9P6LzYELT1bji6bUP1Xec/1m/qWERqu9h2LaHLEKXjm8vjQhrCd2VyzwvncXqE7zos9o8seBL6yXmR84N56vPc1d8tv9/twKeaAUAFvOEGABUQvgBQAeG7QlwTPGxu50O+0UGWXLnt7P4lx0M/hG9FvlvKxtbnDZ1cqW/+TBF+OhbfsYZ4EzIWXrZOA0+X2uRre+YwjjUifDEKCbOUkE/drw89hi59g9Yl4RX67jFfnWxrmS/4bH2O3Ha6b+nx0A93O/Skf/BgZ7HuH0QoLffNeGN/RGG3dT2lX9uHCAWdG0Z2H7eN3faFmNt/6JjK178VOraw2247ETqu248KlXfJCd/Ytg1it7/SdqKrX5VTh/6Y+Q5AA9ENO1sui4aj3deupwodT2mdG8ZdJHhk8QVZiIZVSWjFwm7qsZSyIeiK1fnIviUhF2unYwjtY+ts2LrtbB2GQfgOwIagG4gSgLoMJXY8dzvVlIHVZcyxlM5ut1ksOKVOF0yL8B2ZhKFdUM82B6+dfcpP2U5hZ65uwGo/umBahO/I+s54h5wx95VzCaBL3yDMHcsYwRsLwZSATNlnKCljwbQI3xHpTDd26cFXLu1C+/ch4ZMbWtqmJOy0TUl7nz5j0Z+h9lI2dDiHSND5ws6W+/aRAJUyN0hj7XRbFred9mf3V7bO1xb9cbfDykwZMiFzGIMrd0yxQCKskILwXaE5hl9NnA/UQPgCQAVc8wWACghfAKiA8AWAChZ3zVfePBFDvoFib/ma+g8lxng8AOpb7BtuY7yDLSE8ZfjyLjywXFx2MPQPG3L/uCHWLlYHYMVk5rtEe3t77VqaP//o9+3ae+62SC1TKX3G5D4GANtjsTNf+e+6/Lddr5mmKJ2lxvYv6VPHzSUHYLm45tuScOy6nhvbR8PV1qf0GUMAA8vFNV8jZ3bq6gplALCY+RpuUGqg+gLUV+cL4FCfKZj5AstF+M4Y4QssF39kMXNLezwA3lvszBcA5ow33ACgAsIXACogfFdIryOnyt1/DfS7zXR9G9gxpyppgzSEb0U17gEO3UHxxfevL7tYsn/fAI69gG2dvth1mTP9ksmhuI996L6F/W65oY4z5DjXhPDFD777/nUpi3ADuA95ceZ82aRsa9lcX9g6PjvWvmxfQ/YrfP2lHCNlH5ThboeeZPYqfzgR+mMLX7lvxuu2CW3rekq/tg8Rm/Vq6AoNXlsmQu27pIavbz+33vLtq2yd9hGrV7E+RUk7t66LtM0dR9e28o2l63ihNlbO8dCS8EU5+aQy+2lloXXRta1i+8m6u61idSL0KWk/Mc8CXbdlquRT1ppfhZ9ibp1vX1sm6+62ctumtnPF2sXE+k/tQ/n2l7LQMdz9fe2Vr67v/rnt8R6XHQZgZ5jubFNmo7oMJXY8dzuHOwOeo9hMSmZcurhsO7eP1HauWLsxlM4ipx7n1MfbVoTvyCQM7TJX2xC8XSSc7JJCAiK3jShtNwY5vgadjktNPc45nZe5I3xH1nfGO+SMOdVQQewGgRWqk3IVa+9j25bwtU/ps+9xpzLGOGN9bst5qYU33HqScIzNaN3wtPvaOrePULvY8dw6376xN92sId5skxdfn/AVdp9YnQjVx8YhSo+ZWhc7tuX2J7St1Ln9u/36yoTbr+3TlVIntF7K3OOGjofDCN+VKb1jIbed+4K0YnUxpe36qnVcLBuXHVZGAlSCNEdJYMfCapuCjODFWJj5AkAFzHwBoALCFwAqIHwBoILFha+8OZT7hhIATG2xb7iVvEMPAFPhsgMAVED4AkAFi77PV6/9cvkBwNxwzRcAKuCyAwBUQPgCQAWELwBUsLhrvrzJBmAb8KlmAFABlx0AoALCFwAqIHwBoILRw1feANM3wQAA7032hht/cQYAH3DZAQAqIHwBoIJJ7/PlDyAA4D2u+QJABVx2AIAKCF8AqIDwBYAKRr/my5tsAPAxPtUMACrgsgMAVED4AkAFhC8AVED4AkAFhC8AVED4AkAFhC8AVLDK8P3FL36xWQCglqLwvXfvXvO3v/2t3ZpGblhqwE4dtFMeC8D2yv4LNwnehw8fNleuXGk+/fTTtnR8Emq/+93v2q24nH2HVvPYALZHVvhK8D548GATvKlfiumGkd2WdcsNrVi9rfO1c8tEVxsrVp/bFgA+IuGb4q9//eu7X/7yl+/++c9/tiXv3v3hD3/YLDE///nP27X37Lasu9uqq52l2/LTt7hCZbY8tC5S6wAgJPua7/dt2rWmOTg42Cx9lM4SZbapi5K+tD9dz+k/tq/veABQKjl8z5w503z55ZfNN9980zx79mxT9vXXX2+WGmy45gRsqamPB2DZsma+EsAnT55sbty40bx8+bL55JNPNkuq0lmjr93UM9CU4zErBpAq+7KDBPBPf/rT5u9//3tbEiezRAml3GCy7dyZpm5rfWrfdt+cdrHjxcYJACF8mDoAVJA98wUA9Ef4AkAFhC8AVED4AkAFhC8AVLDz+vVr7nYAgIlxqxkAVMBlBwCogPAFgAoIXwCogPAFgAqyw/f27dvNq1ev2i2MLfUbQ7bNUh8XkCo7fI8dO9Zcu3Zt9ACWF6cuQxmqzyHHFCPHef78ebv13hc7h5chuH0O3a+PPK6pziMwR9nhe+7cueb48ePN9evXRw1geXG6wdPXGH1O7bt3h5ehgtLtty8Z1xD9AEuVHb47OzvN+fPnm88//zw5gHW2qYsVKu9i29m2bj/udoyvP1VSp9uxel+5kLJt/ociJXjl8fkeO7AGRW+4ybdXXLhwYfPV8XIJ4s2bN23Nx/TFpbNON1BseeoLsavPUrY/OxZZt3WWW+c+BlvvirWL0f/ODzm7tH0CGF9R+CoJ4bdv37ZbYb7gURI6uuSI9VmqdCwxdpzumEuPp5cGZBkiLG1/Q/UJIK4ofOUvkuWuh6dPnzZXr15tjh492tbkkdCRQNKlpqnHMqfHDmB62eErwXvnzp3myZMnzf7+frO7u9vWhKXM7HJnf2P0qWLtSvuMGbJP6atPf75Zb98+AXws+4N17t692zx69Cg5eIX7wrUzvVCd78We0k6M2aeUyXqonVtut12x4wlfezcc5TKBpX3Gjuuaok/h6zenT2BJssP31q1bzdmzZ5ODF+VKwqkkKLuM0acgfLFmfKTkzOUEFMELbA/CFwAq6HWrGQCgDOELABUQvgBQAeELABUQvgBQAeELABUQvgBQAeELABUU/ZHFvXv3Nh8nefr06bYkbm/v23ataV68+KpdA4D1yp75SvA+fPiwOXHiRFsSJ8ErgauLDWIAWKus8JXgffDgQXPp0qXNt1ikInAB4LDkyw4SvPfv398E749//ONN2c2bNzc/f/azn21+hnDZAQAOy77sYLP64OBgs8Ro8GroMgsGgMw33PSyw+XLlzffXqzf3yZvvoVI2NrZrrsNAGuUNfM9c+ZMc/LkyebGjRvNy5cvN6EbC14AgF/xrWZHjhxpTp061ZbEcc0XAA7jw9QBoAKuGQBABYQvAFRA+AJABYQvAFSw8/r1a95wA4CJcbcDAFTAZQcAqIDwBYAKCF8AqIDwBYAKssP39u3bzatXr9otjO2zzz5r15ZlqY8LSJV9t8Pdu3ebx48fN1euXGl2d3fb0uHZF+fz58/btX6G6lP6GWpMMb7jfLHTrrS+G+BeFbdPMXS/vv6mOo/AHGXPfM+dO9ccP368uX79+qgzYHlRDv3CHKPPqUmI2cUXnCXcfvuScdn+hhonsBTZ4buzs9OcP39+82HqqQEsMxy7WKHyLradbev2427H+PpTJXW6Hav3lQsp2+Z/KFICXB6f77EDa1D0hpt8gPqFCxc2X6J57dq15s2bN23Nx/TFpbNON1BseeoLsavPUrY/OxZZt3WWW+c+BlvvirWLkVmkLkPMUoXtE8D4et3tICGsXyUU4wseJaGjS45Yn6VKxxJjx+mOufR4Q/933vY3VJ+W9Cf9AvigKHzlPTq56+Hp06fN1atXm6NHj7Y1eSR0JJB0qWnqsczpsY+J4AX8ssNXgvfOnTvNkydPmv39/aQ7HlJmdrmzvzH6VLF2pX3GDNmn9NWnP9+st7RPghcIK7rV7NGjR8nBK9wXrp3phep8L/aUdmLMPqVM1kPt3HK77YodT/jau+Hohpv2GTuua4o+ha/fnD6BJckO31u3bjVnz54d9R5fvFcSTiVB2WWMPgXhizXjIyVnLiegCF5gexC+AFBBr1vNAABlCF8AqIDwBYAKCF8AqIDwBYAKCF8AqIDwBYAKCF8AqKDojyzu3bu3+TjJ06dPtyXl9va+bdea5sWLr9o1AFi27JmvBO/Dhw+bEydOtCXlJHglcHWxQQwAS5YVvhK8Dx48aC5durT5Fou+mOkCWKvk8JXgvX//fnPx4sUfPmzl5s2bmwUAkCf7soO9RHxwcLBZusjlBLv4SDkzYQBrkfWGm152uHz58ubbi/X72+TNtz4IXgBrk323g77hduXKlUGu+xK8ANao+FazI0eONKdOnWpLyvguQRDEANaAD1MHgAr6XawFABQhfAGgAsIXACogfAGgAsIXACrYef36NXc7AMDEuNUMACrgsgMAVED4AkAFhC8AVED4AkAF2eF7+/bt5tWrV+0WxqYfXL80S31cQKrsux3u3r3bPH78ePORkru7u23p8OyL8/nz5+1aP0P1Kf0MNaYY33G+2GlXWt8NcK+K26fo22/KOKc6j8AcZc98z5071xw/fry5fv36qDNgeVEO/cIco8+pSYjZxRecJdx++3L7G2qcwFJkh+/Ozk5z/vz5zTdZpAawzHDsYoXKu9h2tq3bj7sd4+tPldTpdqzeVy6kbOmzQnl8vscOrEHxH1nIVwj98Y9/bF68eNH8+te/bo4ePdrWHKYvrpQg8QVOqEz4+nT3T+3TZfeJ9dlVJ0L7WrF+XHYWOcQsNeUSQYmUccYeJ7Bkve52kO9u0+9xi4m9uOTFp0uOMV6wpWOJseN0x1x6PP2vvCxD/Hfe9jdUn2KMPoGlKApfmSzLXQ9Pnz5trl69Gpz1dpHQkUDSpaapxzKnxw5getnhK8F7586d5smTJ83+/n7SHQ8pM7vc2d8YfapYu9I+Y4bsU/rq059vhtq3TwAfK7rV7NGjR8nBK9wXrp3phep8L/aUdmLMPqVM1kPt3HK77YodT/jau+Eo/6W3tM/YcV01+hRd5wdYsuzwvXXrVnP27NlR7/HFeyXhVBKUXcboUxC+WDM+UnLmcgKK4AW2B+ELABX0utUMAFCG8AWACghfAKiA8AWACghfAKiA8AWACghfAKiA8AWACor+yOLevXubj5M8ffp0WxK3t/ft5ueLF19tfiott9x9AGCJsme+ErwPHz5sTpw40ZbEScDGAlXq7AIAa5AVvhK8Dx48aC5dutR8+umnbWkcgQoAH0sOXwne+/fvNxcvXvzhw1Zu3ry5WfqQmbEuALAW2Zcd7CXig4ODzVLKveRAAANYi6w33PSyw+XLlzffXqzf3yZvvnXpuvYrUvYBgCXImvmeOXOmOXnyZHPjxo3m5cuXm9BNCd4UzHoBrEnxrWZHjhxpTp061ZaE+UJVZ7duHbNeAGvBh6kDQAXDXDMAAGQhfAGgAsIXACogfAGggp3Xr1/zhhsATIy7HQCgAi47AEAFhC8AVED4AkAFhC8AVJAdvrdv325evXrVbmFs+tnJS7PUxwWkyg7fY8eONdeuXRs9gOXFqctQhupzyDHFyHGeP3/ebr33xc7hZQhun0P1K0L9yeOa6jwCc5QdvufOnWuOHz/eXL9+fdQAlhenGzx9jdHn1L57d3gZKijdfgGMKzt8d3Z2mvPnz28+TD01gHW2qYsVKu9i29m2bj/udoyvP1VSp9uxel+5kLJt/4dC/mGIBbk8Pt9jB9ag6A03+QD1CxcubL5EUy5BvHnzpq35mL64dNbpBootT30hdvVZyvZnxyLrts5y69zHYOtdsXYx+l/5rnDLYfscwpBjA5aoKHyVhLB+lVCML3iUhI4uOWJ9liodS4wdpzvm0uPppQFZhghL298QfRK8QLei8JW/SJa7Hp4+fdpcvXq1OXr0aFuTR0JHAkmXmqYey5we+xgkgHXRbQAfZIevBO+dO3eaJ0+eNPv7+83u7m5bE5Yys8ud/Y3Rp4q1K+0zZsg+pa8+/flCMrdPdyatZQA+yP5gnbt37zaPHj1KDl7hvnDtTC9U53uxp7QTY/YpZbIeaueW221X7HjC194NRzfUtM/YcV1j9GlJ/77w7To/wJJlh++tW7eas2fPJgcvypWEU9+g9BmjT0H4Ys34SMmZywkoghfYHoQvAFTQ61YzAEAZwhcAKiB8AaACwhcAKiB8AaACwhcAKiB8AaACwhcAKij6I4t79+5tPk7y9OnTbUnc3t637dp7L1581a7F2XapbQBgG2TPfCV4Hz582Jw4caItSSPhqQHqhnGMbQcAS5EVvhK8Dx48aC5durT5FosUErQl4VnaDgC2QXL4SvDev3+/uXjx4g8ftnLz5s3Nkio3UGV/XQBgSbIvO9hLxAcHB5slRclMVvbXhQAGsCTJ4XvmzJnmyy+/bL755pvm2bNnm7Kvv/56s3QpCV4AWLKsma8E8MmTJ5sbN240L1++3NzxIEsON4hlm1ktgLUpvtXsyJEjzalTp9qSODdc3fAVvpmxbcfMGcCS8GHqAFBB9htuAID+CF8AqIDwBYAKCF8AqGDn9evXvOEGABPjbgcAqIDLDgBQAeELABUQvgBQAeELABVkh+/t27ebV69etVsYm3528tIs9XEBqbLvdrh7927z+PHj5sqVK83u7m5bOjz74nz+/Hm71s9QfUo/Q40pxnecL3baldZ3A9yr4vYp+vab0udU5xGYo+yZ77lz55rjx483169fH3UGLC/KoV+YY/Q5NQkwu/hCroTb7xDG6BNYiuzw3dnZac6fP998/vnnyQEsMxy7WKHyLradbev2427H+PpTJXW6Hav3lQspW/qsUB6f77EDa1D0hpt8gPqFCxc2X6J57dq15s2bN23Nx/TFpbNON1BseeoLsavPUrY/OxZZt3WWW+c+BlvvirWLkdmuLkPNKG2fQxmjT2Apet3tICH89u3bdivMFzxKQkeXHLE+S5WOJcaO0x1z6fHsf+WHCDbb35z7BJakKHzlPTq56+Hp06fN1atXm6NHj7Y1eSR0JJB0qWnqsczpsQOYXnb4SvDeuXOnefLkSbO/v590x0PKzC539jdGnyrWrrTPmCH7lL769OeboY7RJ7B2RbeaPXr0KDl4hfvCtTO9UJ3vxZ7STozZp5TJeqidW263XbHjCV97N8jkv/SW9hk7rqtGn6Lr/ABLlh2+t27das6ePTvqPb54ryScSoKyyxh9CsIXa8ZHSs5cTkARvMD2IHwBoIJet5oBAMoQvgBQAeELABUQvgBQAeELABUQvgBQAeELABUQvgBQQdEfWdy7d2/zcZKnT59uS+L29r5t19578eKrdg0A1il75ivB+/Dhw+bEiRNtSRoJXA1dN4wBYG2ywleC98GDB82lS5c232KRQoKWmS4AHJYcvhK89+/fby5evPjDh63cvHlzs6QiiAHgvezLDvYS8cHBwWZJQfACwAdZb7jpZYfLly9vvr1Yv79N3nwL0eu7NngJYgBrlzXzPXPmTHPy5Mnmxo0bzcuXLzehGwteH4IXAHrcanbkyJHm1KlTbUmczn4V4Qtg7fgwdQCoIPsNNwBAf4QvAEyuaf4P0DilT6ruaJ8AAAAASUVORK5CYII=)"
      ],
      "metadata": {
        "id": "p7OI3_pIjOKD"
      }
    }
  ]
}
