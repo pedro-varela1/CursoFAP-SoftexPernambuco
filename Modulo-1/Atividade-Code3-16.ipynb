{
  "nbformat": 4,
  "nbformat_minor": 0,
  "metadata": {
    "colab": {
      "provenance": []
    },
    "kernelspec": {
      "name": "python3",
      "display_name": "Python 3"
    },
    "language_info": {
      "name": "python"
    }
  },
  "cells": [
    {
      "cell_type": "markdown",
      "source": [
        "# Atividade com Código 3 - FAP\n",
        "\n",
        "## Instrução\n",
        "Desenvolva um código que simule uma eleição com três candidatos.\n",
        "- candidato_X => 889\n",
        "- candidato_Y => 847\n",
        "- candidato_Z => 515\n",
        "- branco => 0\n",
        "\n",
        "O código deve perguntar se deseja finalizar a votação depois do voto. Caso o número do voto não corresponda a nenhum candidato ou seja branco, ele deve ser tratado como nulo. Se for inserido um texto ao invés de número, o código deve retornar uma mensagem para votar novamente.\n",
        "\n",
        "Quando a votação for finalizada, o código deverá mostrar o vencedor, aquele com o maior número de votos e, também, a quantidade de votos de cada candidato, os brancos e nulos."
      ],
      "metadata": {
        "id": "Pi2aGylieQHc"
      }
    },
    {
      "cell_type": "markdown",
      "source": [
        "## Resolução\n",
        "\n",
        "A resolução foi feita em Pyhton 3 e depois implementada em JavaScript.\n",
        "\n",
        "Vamos começar com o número dos candidatos e inicialização dos votos. Através da criação de um dict:"
      ],
      "metadata": {
        "id": "6R8uP1fQfRpF"
      }
    },
    {
      "cell_type": "code",
      "execution_count": 1,
      "metadata": {
        "id": "IWDViHDpd_jk"
      },
      "outputs": [],
      "source": [
        "candidatos = {\n",
        "    889: ['Candidato X', 0],\n",
        "    847: ['Candidato Y', 0],\n",
        "    515: ['Candidato Z', 0],\n",
        "    0: ['Branco', 0],\n",
        "    'Nulo': ['Nulo', 0]\n",
        "}"
      ]
    },
    {
      "cell_type": "markdown",
      "source": [
        "Vamos ver como chamar o dict com suas chaves:"
      ],
      "metadata": {
        "id": "CTdAmR4vVOVk"
      }
    },
    {
      "cell_type": "code",
      "source": [
        "print(candidatos[889], candidatos[847], candidatos[515], candidatos['Nulo'])"
      ],
      "metadata": {
        "colab": {
          "base_uri": "https://localhost:8080/"
        },
        "id": "BUK3hBpTS-w3",
        "outputId": "3e3e73ab-0800-4117-dcfb-180481eabffc"
      },
      "execution_count": 2,
      "outputs": [
        {
          "output_type": "stream",
          "name": "stdout",
          "text": [
            "['Candidato X', 0] ['Candidato Y', 0] ['Candidato Z', 0] ['Nulo', 0]\n"
          ]
        }
      ]
    },
    {
      "cell_type": "markdown",
      "source": [
        "Vamos fazer uma função para contabilizar os votos:"
      ],
      "metadata": {
        "id": "763z2RO9Qauk"
      }
    },
    {
      "cell_type": "code",
      "source": [
        "def urna(candidato, candidatos):\n",
        "  try:\n",
        "    candidatos[candidato][1] += 1\n",
        "    print('Você votou no: ', candidatos[candidato][0])\n",
        "  except:\n",
        "    candidatos['Nulo'][1] += 1\n",
        "    print('Você votou nulo.')\n",
        "  return candidatos"
      ],
      "metadata": {
        "id": "koCW5NPEQhjn"
      },
      "execution_count": 3,
      "outputs": []
    },
    {
      "cell_type": "markdown",
      "source": [
        "Vamos fazer o loop da eleição. Para contabilizar o vencedor, será feito um loop percorrendo a quantidade de votos de cada cada candidato e retirando o máximo entre eles, armazenando o nome do vencedor no processo."
      ],
      "metadata": {
        "id": "rlnkG7jsiAF8"
      }
    },
    {
      "cell_type": "code",
      "source": [
        "while True: # Loop infinito\n",
        "  voto = input('\\nDigite seu voto: ')\n",
        "  try:\n",
        "    voto = int(voto)\n",
        "    candidatos = urna(voto, candidatos)\n",
        "  except:\n",
        "    print('Você digitou um voto inválido, vote novamente.')\n",
        "    continue\n",
        "\n",
        "  end = input('Digite \"END\" se quer finalizar com a votação, caso contrário, digite qualquer outra coisa: ') # Finaliza com \"END\".\n",
        "  if end == 'END':\n",
        "    max_votos = candidatos[889][1]\n",
        "    vencedor = candidatos[889][0]\n",
        "    for i in candidatos:\n",
        "      print('Houve ', candidatos[i][1], ' votos em ', candidatos[i][0])\n",
        "      if ((max_votos < candidatos[i][1]) and (i != 0) and (i != 'Nulo')):\n",
        "        max_votos = candidatos[i][1]\n",
        "        vencedor = candidatos[i][0]\n",
        "    print(f'O candidato vencedor foi o {vencedor} com {max_votos} votos (em caso de empate, ganha o candidato com maior numeração).')\n",
        "    break"
      ],
      "metadata": {
        "colab": {
          "base_uri": "https://localhost:8080/"
        },
        "id": "aogv28Drh-J7",
        "outputId": "4283264b-82f2-4eb3-c2ce-c6a8c578d86d"
      },
      "execution_count": 4,
      "outputs": [
        {
          "output_type": "stream",
          "name": "stdout",
          "text": [
            "\n",
            "Digite seu voto: texto\n",
            "Você digitou um voto inválido, vote novamente.\n",
            "\n",
            "Digite seu voto: 100\n",
            "Você votou nulo.\n",
            "Digite \"END\" se quer finalizar com a votação, caso contrário, digite qualquer outra coisa: no\n",
            "\n",
            "Digite seu voto: 847\n",
            "Você votou no:  Candidato Y\n",
            "Digite \"END\" se quer finalizar com a votação, caso contrário, digite qualquer outra coisa: no\n",
            "\n",
            "Digite seu voto: 889\n",
            "Você votou no:  Candidato X\n",
            "Digite \"END\" se quer finalizar com a votação, caso contrário, digite qualquer outra coisa: no\n",
            "\n",
            "Digite seu voto: 515\n",
            "Você votou no:  Candidato Z\n",
            "Digite \"END\" se quer finalizar com a votação, caso contrário, digite qualquer outra coisa: no\n",
            "\n",
            "Digite seu voto: 515\n",
            "Você votou no:  Candidato Z\n",
            "Digite \"END\" se quer finalizar com a votação, caso contrário, digite qualquer outra coisa: no\n",
            "\n",
            "Digite seu voto: 0\n",
            "Você votou no:  Branco\n",
            "Digite \"END\" se quer finalizar com a votação, caso contrário, digite qualquer outra coisa: END\n",
            "Houve  1  votos em  Candidato X\n",
            "Houve  1  votos em  Candidato Y\n",
            "Houve  2  votos em  Candidato Z\n",
            "Houve  1  votos em  Branco\n",
            "Houve  1  votos em  Nulo\n",
            "O candidato vencedor foi o Candidato Z com 2 votos (em caso de empate, ganha o candidato com maior numeração).\n"
          ]
        }
      ]
    },
    {
      "cell_type": "markdown",
      "source": [
        "Vemos que a função deu certo para os diferentes cenários.\n",
        "\n",
        "Podemos escrever o código completo, em PYTHON:\n",
        "\n",
        "```py\n",
        "candidatos = {\n",
        "    889: ['Candidato X', 0],\n",
        "    847: ['Candidato Y', 0],\n",
        "    515: ['Candidato Z', 0],\n",
        "    0: ['Branco', 0],\n",
        "    'Nulo': ['Nulo', 0]\n",
        "}\n",
        "\n",
        "def urna(candidato, candidatos):\n",
        "  try:\n",
        "    candidatos[candidato][1] += 1\n",
        "    print('Você votou no: ', candidatos[candidato][0])\n",
        "  except:\n",
        "    candidatos['Nulo'][1] += 1\n",
        "    print('Você votou nulo.')\n",
        "  return candidatos\n",
        "\n",
        "while True: # Loop infinito\n",
        "  voto = input('\\nDigite seu voto: ')\n",
        "  try:\n",
        "    voto = int(voto)\n",
        "    candidatos = urna(voto, candidatos)\n",
        "  except:\n",
        "    voto = input('Você digitou um voto inválido, vote novamente: ')\n",
        "\n",
        "  end = input('Digite \"END\" se quer finalizar com a votação, caso contrário, digite qualquer outra coisa: ')\n",
        "  if end == 'END':\n",
        "    max_votos = candidatos[889][1]\n",
        "    vencedor = candidatos[889][0]\n",
        "    for i in candidatos:\n",
        "      print('Houve ', candidatos[i][1], ' votos em ', candidatos[i][0])\n",
        "      if ((max_votos < candidatos[i][1]) and (i != 0) and (i != 'Nulo')):\n",
        "        max_votos = candidatos[i][1]\n",
        "        vencedor = candidatos[i][0]\n",
        "    print(f'O candidato vencedor foi o {vencedor} com {max_votos} votos (em caso de empate, ganha o candidato com maior numeração).')\n",
        "    break\n",
        "```\n",
        "\n",
        "Por fim, o código completo em JAVASCRIPT, com alteração do _try_ dentro da função _urna_ por um _if_ e o _try_ dentro do loop infinito sendo alterado também por um _if_ que identifica se o prompt informado pelo usuário é um texto ou não.\n",
        "\n",
        "```js\n",
        "let candidatos = {\n",
        "  889: ['Candidato X', 0],\n",
        "  847: ['Candidato Y', 0],\n",
        "  515: ['Candidato Z', 0],\n",
        "  0: ['Branco', 0],\n",
        "  'Nulo': ['Nulo', 0]\n",
        "};\n",
        "\n",
        "function urna(candidato, candidatos) {\n",
        "  if ((candidato==889)||(candidato==847)||(candidato==515)||(candidato==0)){\n",
        "    candidatos[candidato][1] += 1;\n",
        "    console.log('Você votou no: ', candidatos[candidato][0]);\n",
        "  } else {\n",
        "    candidatos['Nulo'][1] += 1;\n",
        "    console.log('Você votou nulo.');\n",
        "  }\n",
        "  return candidatos;\n",
        "}\n",
        "\n",
        "while (true) { // Loop infinito\n",
        "  let voto = prompt('\\nDigite seu voto: ');\n",
        "  if(!Number.isNaN(Number(voto))){\n",
        "    voto = parseInt(voto);\n",
        "    candidatos = urna(voto, candidatos);\n",
        "  } else {\n",
        "    console.log('Você digitou um voto inválido, vote novamente.');\n",
        "    continue;\n",
        "  }\n",
        "\n",
        "  const end = prompt('Digite \"END\" se quer finalizar com a votação, caso contrário, digite qualquer outra coisa: ');\n",
        "  if (end === 'END') {\n",
        "    let max_votos = candidatos[889][1];\n",
        "    let vencedor = candidatos[889][0];\n",
        "    for (const i in candidatos) {\n",
        "      console.log('Houve ', candidatos[i][1], ' votos em ', candidatos[i][0]);\n",
        "      if ((max_votos < candidatos[i][1]) && (i !== 0) && (i !== 'Nulo')) {\n",
        "        max_votos = candidatos[i][1];\n",
        "        vencedor = candidatos[i][0];\n",
        "      }\n",
        "    }\n",
        "    console.log(`O candidato vencedor foi o ${vencedor} com ${max_votos} votos (em caso de empate, ganha o candidato com maior numeração).`);\n",
        "    break;\n",
        "  }\n",
        "}\n",
        "```"
      ],
      "metadata": {
        "id": "p7OI3_pIjOKD"
      }
    }
  ]
}