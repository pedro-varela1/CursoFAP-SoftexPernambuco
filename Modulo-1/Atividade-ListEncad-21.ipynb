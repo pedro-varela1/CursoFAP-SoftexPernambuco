{
  "nbformat": 4,
  "nbformat_minor": 0,
  "metadata": {
    "colab": {
      "provenance": [],
      "authorship_tag": "ABX9TyPU746//Cbqnx9N1IkWh9sG",
      "include_colab_link": true
    },
    "kernelspec": {
      "name": "python3",
      "display_name": "Python 3"
    },
    "language_info": {
      "name": "python"
    }
  },
  "cells": [
    {
      "cell_type": "markdown",
      "metadata": {
        "id": "view-in-github",
        "colab_type": "text"
      },
      "source": [
        "<a href=\"https://colab.research.google.com/github/pedro-varela1/CursoFAP-SoftexPernambuco/blob/main/Modulo-1/Atividade-ListEncad-21.ipynb\" target=\"_parent\"><img src=\"https://colab.research.google.com/assets/colab-badge.svg\" alt=\"Open In Colab\"/></a>"
      ]
    },
    {
      "cell_type": "markdown",
      "source": [
        "# Atividade Lista Encadeada - FAP\n",
        "\n",
        "## Instrução\n",
        "Crie uma lista encadeada em que cada elemento representa uma pessoa.\n",
        "\n",
        "Ela precisa conter informações como nome, idade e referência ao filho dela.\n",
        "\n",
        "---"
      ],
      "metadata": {
        "id": "Pi2aGylieQHc"
      }
    },
    {
      "cell_type": "markdown",
      "source": [
        "## Algoritmo e Código\n",
        "\n",
        "O algoritmo foi feito em Pyhton e está exposto abaixo, passo a passo."
      ],
      "metadata": {
        "id": "6R8uP1fQfRpF"
      }
    },
    {
      "cell_type": "markdown",
      "source": [
        "Primeiramente, vamos criar uma classe _Pessoa_, que possui os atributos nome, idade e filho, onde filho é uma referência à próxima pessoa na lista:"
      ],
      "metadata": {
        "id": "6LubGStznZnT"
      }
    },
    {
      "cell_type": "code",
      "source": [
        "class Pessoa:\n",
        "    def __init__(self, nome, idade):\n",
        "        self.nome = nome\n",
        "        self.idade = idade\n",
        "        self.filho = None"
      ],
      "metadata": {
        "id": "cf0dvzecoL5F"
      },
      "execution_count": 1,
      "outputs": []
    },
    {
      "cell_type": "markdown",
      "source": [
        "Em seguida, criemos a classe _ListaEncadeada_, que contém o atributo _first_, que aponta para o primeiro elemento da lista:"
      ],
      "metadata": {
        "id": "8ozNJV7jo5fI"
      }
    },
    {
      "cell_type": "code",
      "source": [
        "class ListaEncadeada:\n",
        "    def __init__(self):\n",
        "        self.first = None\n",
        "\n",
        "    def add_person(self, nome, idade):\n",
        "        nova_pessoa = Pessoa(nome, idade)\n",
        "        nova_pessoa.filho = self.first\n",
        "        self.first= nova_pessoa\n",
        "\n",
        "    def show_list(self):\n",
        "        atual = self.first\n",
        "        while atual:\n",
        "            print(f\"Nome: {atual.nome}, Idade: {atual.idade}, Filho: {atual.filho.nome if atual.filho else 'Sem filho'}\")\n",
        "            atual = atual.filho"
      ],
      "metadata": {
        "id": "KwGLxQvhqEl9"
      },
      "execution_count": 2,
      "outputs": []
    },
    {
      "cell_type": "markdown",
      "source": [
        "Na classe, vemos os seguintes métodos:\n",
        "- *add_person*: é criado uma nova instância da classe _Pessoa_, e seu atributo _filho_ é definido como a referência à pessoa que antes era a primeira da lista. Então, atualizamos o atributo primeiro da lista para apontar para a nova pessoa adicionada, tornando-a o novo primeiro elemento.\n",
        "- *show_list*: percorre a lista encadeada, mostrando o _nome_, _idade_ e _nome_ do _filho_ de cada pessoa. Se a pessoa não tiver _filho_, é exibida a mensagem \"Sem filho\".\n"
      ],
      "metadata": {
        "id": "iNjOixTAuKmk"
      }
    },
    {
      "cell_type": "markdown",
      "source": [
        "Vamos exemplificar o uso:"
      ],
      "metadata": {
        "id": "ScbGnrv2lgxw"
      }
    },
    {
      "cell_type": "code",
      "source": [
        "list_person = ListaEncadeada()\n",
        "list_person.add_person(\"Pedro\", 21)\n",
        "list_person.add_person(\"Roger\", 24)\n",
        "list_person.add_person(\"Bergue\", 22)\n",
        "\n",
        "list_person.show_list()"
      ],
      "metadata": {
        "colab": {
          "base_uri": "https://localhost:8080/"
        },
        "id": "Y1cGpWfomWcx",
        "outputId": "ceaa2772-8415-4b96-abfd-c7e5a1343d41"
      },
      "execution_count": 3,
      "outputs": [
        {
          "output_type": "stream",
          "name": "stdout",
          "text": [
            "Nome: Bergue, Idade: 22, Filho: Roger\n",
            "Nome: Roger, Idade: 24, Filho: Pedro\n",
            "Nome: Pedro, Idade: 21, Filho: Sem filho\n"
          ]
        }
      ]
    },
    {
      "cell_type": "markdown",
      "source": [
        "Vemos que a lista encadeada realiza sua função com êxito. Primeiramente, temos o primeiro da lista: Pedro, que, por ser o primeiro, não tem filhos. Depois Roger, cujo pai é Pedro e, por fim, Bergue, cujo pai é Roger."
      ],
      "metadata": {
        "id": "YTh15wa5nFMl"
      }
    }
  ]
}