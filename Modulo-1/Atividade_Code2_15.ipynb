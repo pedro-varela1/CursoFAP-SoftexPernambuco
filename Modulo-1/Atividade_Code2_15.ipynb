{
  "nbformat": 4,
  "nbformat_minor": 0,
  "metadata": {
    "colab": {
      "provenance": []
    },
    "kernelspec": {
      "name": "python3",
      "display_name": "Python 3"
    },
    "language_info": {
      "name": "python"
    }
  },
  "cells": [
    {
      "cell_type": "markdown",
      "source": [
        "# Atividade com Código 2 - FAP\n",
        "\n",
        "## Instrução\n",
        "Desenvolva um programa que recebe do usuário nome completo e ano de nascimento que seja entre 1922 e 2021. A partir dessas informações, o sistema mostrará o nome do usuário e a idade que completou, ou completará, no ano atual (2022).\n",
        "\n",
        "Caso o usuário não digite um número ou apareça um inválido no campo do ano, o sistema informará o erro e continuará perguntando até que um valor correto seja preenchido."
      ],
      "metadata": {
        "id": "Pi2aGylieQHc"
      }
    },
    {
      "cell_type": "markdown",
      "source": [
        "## Resolução\n",
        "\n",
        "A resolução foi feita em Pyhton 3:"
      ],
      "metadata": {
        "id": "6R8uP1fQfRpF"
      }
    },
    {
      "cell_type": "code",
      "execution_count": 1,
      "metadata": {
        "id": "IWDViHDpd_jk",
        "colab": {
          "base_uri": "https://localhost:8080/"
        },
        "outputId": "94581c0c-0f0d-4704-a880-ef9e5710106c"
      },
      "outputs": [
        {
          "output_type": "stream",
          "name": "stdout",
          "text": [
            "Digite seu nome completo: Pedro Artur Varela\n",
            "\n",
            "Digite o seu ano de nascimento (1922-2021): 1921\n",
            "\n",
            "O ano informado está fora da faixa, digite novamente: 2022\n",
            "\n",
            "O ano informado está fora da faixa, digite novamente: 2022.2\n",
            "\n",
            "O ano informado é inválido, digite novamente: 2002.2\n",
            "\n",
            "O ano informado é inválido, digite novamente: ano\n",
            "\n",
            "O ano informado é inválido, digite novamente: 2002\n",
            "\n",
            "Seu nome completo é:  Pedro Artur Varela\n",
            "\n",
            "Você completou 20 anos em 2022.\n"
          ]
        }
      ],
      "source": [
        "nome = input('Digite seu nome completo: ')\n",
        "\n",
        "ano = input('\\nDigite o seu ano de nascimento (1922-2021): ')\n",
        "while True: # Checagem se o ano é inválido\n",
        "  try:\n",
        "    ano = int(ano)\n",
        "    if ((ano >= 1922) and (ano <= 2021)):\n",
        "      break\n",
        "    else:\n",
        "      ano = input('\\nO ano informado está fora da faixa, digite novamente: ')\n",
        "  except:\n",
        "    ano = input('\\nO ano informado é inválido, digite novamente: ')\n",
        "\n",
        "idade = 2022 - ano # Idade em 2022\n",
        "\n",
        "print('\\nSeu nome completo é: ', nome)\n",
        "print(f'\\nVocê completou {idade} anos em 2022.')"
      ]
    },
    {
      "cell_type": "markdown",
      "source": [
        "É visível que o código só saiu do loop quando um ano válido for colocado. Além disso, os erros de leitura foram corretamente sinalizados."
      ],
      "metadata": {
        "id": "qcTDBGUBKzrV"
      }
    }
  ]
}